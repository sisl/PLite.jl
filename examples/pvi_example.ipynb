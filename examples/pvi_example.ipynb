{
 "cells": [
  {
   "cell_type": "markdown",
   "metadata": {
    "slideshow": {
     "slide_type": "slide"
    }
   },
   "source": [
    "# Parallel Value Iteration\n",
    "\n",
    "We assume you've read the documentation on Serial Value Iteration. Otherwise, go back [there](http://nbviewer.ipython.org/github/haoyio/PLite.jl/blob/master/examples/svi_example.ipynb) and understand it before coming back."
   ]
  },
  {
   "cell_type": "markdown",
   "metadata": {
    "slideshow": {
     "slide_type": "subslide"
    }
   },
   "source": [
    "## Quick and dirty example\n",
    "\n",
    "To reap the benefits of Julia’s parallel computing framework for value iteration, we need a few more steps. The main issue we have to get around is code availability when we add processes. But we’ll skip an in-depth explanation and just go straight to what we can do.\n",
    "\n",
    "We consider a quick and dirty example of running the exact same code as in the MDP with T(s, a) type transition on PLite’s parallel value iteration solver. "
   ]
  },
  {
   "cell_type": "markdown",
   "metadata": {
    "slideshow": {
     "slide_type": "subslide"
    }
   },
   "source": [
    "First, we wrap our existing code under the module `ExampleModule` (you can name it whatever you want), and save it under the file name `ExampleModule.jl`.\n",
    "\n",
    "As our naming scheme suggests, the module and file should share the same name. Next slide shows what should be saved to the file."
   ]
  },
  {
   "cell_type": "code",
   "execution_count": null,
   "metadata": {
    "collapsed": true,
    "slideshow": {
     "slide_type": "subslide"
    }
   },
   "outputs": [],
   "source": [
    "#=\n",
    "module ExampleModule\n",
    "\n",
    "export\n",
    "  mdp,\n",
    "  solver,\n",
    "  solve,\n",
    "  getpolicy\n",
    "\n",
    "using PLite\n",
    "\n",
    "<constants, mdp definition, state and action space, transition, reward>\n",
    "\n",
    "# solver options\n",
    "solver = ParallelValueIteration()\n",
    "discretize_statevariable!(solver, \"x\", StepX)\n",
    "\n",
    "end\n",
    "=#"
   ]
  },
  {
   "cell_type": "markdown",
   "metadata": {
    "slideshow": {
     "slide_type": "slide"
    }
   },
   "source": [
    "In our definition of the parallel value iteration solver, we have an additional keyword argument `nthreads` indicating how many parallel processes we want to run. The default value is `CPU_CORES / 2`.\n",
    "\n",
    "As in the serial solver, PLite.jl needs a definition of the discretization scheme."
   ]
  },
  {
   "cell_type": "code",
   "execution_count": null,
   "metadata": {
    "collapsed": true,
    "slideshow": {
     "slide_type": "-"
    }
   },
   "outputs": [],
   "source": [
    "#=\n",
    "solver = ParallelValueIteration()\n",
    "discretize_statevariable!(solver, \"x\", StepX)\n",
    "=#"
   ]
  },
  {
   "cell_type": "markdown",
   "metadata": {
    "slideshow": {
     "slide_type": "subslide"
    }
   },
   "source": [
    "`CPU_CORES` is a Julia standard library constant, and it defaults to the number of CPU cores in your system. But the number of cores given usually includes virtual cores (e.g., Intel processors), so we divide by two to obtain the number of physical cores. "
   ]
  },
  {
   "cell_type": "markdown",
   "metadata": {
    "slideshow": {
     "slide_type": "subslide"
    }
   },
   "source": [
    "There isn’t an issue with increasing the number of cores. But since we have the same number of cores doing the same number of work, there won’t be an increase in efficiency. In fact, with greater number of threads there may be more overhead and runtime processes. As such, we recommend using as many threads as there are physical cores on the machine. In the case of the parallel solver, we can define"
   ]
  },
  {
   "cell_type": "code",
   "execution_count": null,
   "metadata": {
    "collapsed": true,
    "slideshow": {
     "slide_type": "-"
    }
   },
   "outputs": [],
   "source": [
    "#=\n",
    "solver = ParallelValueIteration(\n",
    "  tol=1e-6,\n",
    "  maxiter=10000,\n",
    "  discount=0.999,\n",
    "  verbose=false,\n",
    "  nthreads=10)\n",
    "=#"
   ]
  },
  {
   "cell_type": "markdown",
   "metadata": {
    "slideshow": {
     "slide_type": "subslide"
    }
   },
   "source": [
    "Notice also that we need to export a few functions and variables in order for the module to work. Don't worry too much about it--just make sure you have these in your module."
   ]
  },
  {
   "cell_type": "code",
   "execution_count": null,
   "metadata": {
    "collapsed": true,
    "slideshow": {
     "slide_type": "-"
    }
   },
   "outputs": [],
   "source": [
    "#=\n",
    "export\n",
    "  mdp,\n",
    "  solver,\n",
    "  solve,\n",
    "  getpolicy\n",
    "=#"
   ]
  },
  {
   "cell_type": "markdown",
   "metadata": {
    "slideshow": {
     "slide_type": "slide"
    }
   },
   "source": [
    "## Solution and policy extraction\n",
    "\n",
    "Finally, on the console or Jupyter notebook, we just input the following. The resulting policy is no different than the one obtained using serial value iteration."
   ]
  },
  {
   "cell_type": "code",
   "execution_count": null,
   "metadata": {
    "collapsed": true,
    "slideshow": {
     "slide_type": "-"
    }
   },
   "outputs": [],
   "source": [
    "const NThreads = round(Int, CPU_CORES / 2)\n",
    "addprocs(NThreads - 1)  # -1 to account for existing process\n",
    "\n",
    "push!(LOAD_PATH, \".\")\n",
    "push!(LOAD_PATH, \"../src\")\n",
    "\n",
    "using ExampleModule\n",
    "\n",
    "# generate results\n",
    "solution = solve(mdp, solver)\n",
    "policy = getpolicy(mdp, solution)"
   ]
  },
  {
   "cell_type": "markdown",
   "metadata": {
    "slideshow": {
     "slide_type": "subslide"
    }
   },
   "source": [
    "## Warning\n",
    "\n",
    "Note that for a small problem such as ours, the gain will not be apparent. In fact, it may be worse due to the additional overhead.\n",
    "\n",
    "Consider using this for problems with large state and action spaces, or problems with complex transition or reward functions."
   ]
  }
 ],
 "metadata": {
  "celltoolbar": "Slideshow",
  "kernelspec": {
   "display_name": "Julia 0.4.0",
   "language": "julia",
   "name": "julia-0.4"
  },
  "language_info": {
   "file_extension": ".jl",
   "mimetype": "application/julia",
   "name": "julia",
   "version": "0.4.0"
  }
 },
 "nbformat": 4,
 "nbformat_minor": 0
}
